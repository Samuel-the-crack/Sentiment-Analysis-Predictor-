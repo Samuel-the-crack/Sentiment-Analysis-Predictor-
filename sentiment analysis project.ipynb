{
 "cells": [
  {
   "cell_type": "code",
   "execution_count": 1,
   "id": "959938aa",
   "metadata": {},
   "outputs": [],
   "source": [
    "import numpy as np \n",
    "import pandas as pd \n",
    "import matplotlib.pyplot as plt \n",
    "import re\n",
    "%matplotlib inline\n",
    "import seaborn as sns \n",
    "sns.set()\n",
    "import warnings \n",
    "warnings.filterwarnings('ignore')"
   ]
  },
  {
   "cell_type": "markdown",
   "id": "463575e8",
   "metadata": {},
   "source": [
    "## 1. Import Dataset "
   ]
  },
  {
   "cell_type": "code",
   "execution_count": 2,
   "id": "a063d7c5",
   "metadata": {},
   "outputs": [
    {
     "data": {
      "text/html": [
       "<div>\n",
       "<style scoped>\n",
       "    .dataframe tbody tr th:only-of-type {\n",
       "        vertical-align: middle;\n",
       "    }\n",
       "\n",
       "    .dataframe tbody tr th {\n",
       "        vertical-align: top;\n",
       "    }\n",
       "\n",
       "    .dataframe thead th {\n",
       "        text-align: right;\n",
       "    }\n",
       "</style>\n",
       "<table border=\"1\" class=\"dataframe\">\n",
       "  <thead>\n",
       "    <tr style=\"text-align: right;\">\n",
       "      <th></th>\n",
       "      <th>tweet_id</th>\n",
       "      <th>entity</th>\n",
       "      <th>sentiment</th>\n",
       "      <th>tweet_content</th>\n",
       "    </tr>\n",
       "  </thead>\n",
       "  <tbody>\n",
       "    <tr>\n",
       "      <th>0</th>\n",
       "      <td>2401</td>\n",
       "      <td>Borderlands</td>\n",
       "      <td>Positive</td>\n",
       "      <td>im getting on borderlands and i will murder yo...</td>\n",
       "    </tr>\n",
       "    <tr>\n",
       "      <th>1</th>\n",
       "      <td>2401</td>\n",
       "      <td>Borderlands</td>\n",
       "      <td>Positive</td>\n",
       "      <td>I am coming to the borders and I will kill you...</td>\n",
       "    </tr>\n",
       "    <tr>\n",
       "      <th>2</th>\n",
       "      <td>2401</td>\n",
       "      <td>Borderlands</td>\n",
       "      <td>Positive</td>\n",
       "      <td>im getting on borderlands and i will kill you ...</td>\n",
       "    </tr>\n",
       "    <tr>\n",
       "      <th>3</th>\n",
       "      <td>2401</td>\n",
       "      <td>Borderlands</td>\n",
       "      <td>Positive</td>\n",
       "      <td>im coming on borderlands and i will murder you...</td>\n",
       "    </tr>\n",
       "    <tr>\n",
       "      <th>4</th>\n",
       "      <td>2401</td>\n",
       "      <td>Borderlands</td>\n",
       "      <td>Positive</td>\n",
       "      <td>im getting on borderlands 2 and i will murder ...</td>\n",
       "    </tr>\n",
       "  </tbody>\n",
       "</table>\n",
       "</div>"
      ],
      "text/plain": [
       "   tweet_id       entity sentiment  \\\n",
       "0      2401  Borderlands  Positive   \n",
       "1      2401  Borderlands  Positive   \n",
       "2      2401  Borderlands  Positive   \n",
       "3      2401  Borderlands  Positive   \n",
       "4      2401  Borderlands  Positive   \n",
       "\n",
       "                                       tweet_content  \n",
       "0  im getting on borderlands and i will murder yo...  \n",
       "1  I am coming to the borders and I will kill you...  \n",
       "2  im getting on borderlands and i will kill you ...  \n",
       "3  im coming on borderlands and i will murder you...  \n",
       "4  im getting on borderlands 2 and i will murder ...  "
      ]
     },
     "execution_count": 2,
     "metadata": {},
     "output_type": "execute_result"
    }
   ],
   "source": [
    "# define headers \n",
    "headers = ['tweet_id','entity','sentiment','tweet_content']\n",
    "# train data (using 80% of total data)\n",
    "train = pd.read_csv('twitter_training.csv', sep=',', names=headers)\n",
    "train.head()"
   ]
  },
  {
   "cell_type": "code",
   "execution_count": 3,
   "id": "14298490",
   "metadata": {},
   "outputs": [],
   "source": [
    "# test data \n",
    "test = pd.read_csv('twitter_validation.csv', sep=',', names=headers).sample(n=10)\n",
    "test = test['tweet_content'].tolist()"
   ]
  },
  {
   "cell_type": "markdown",
   "id": "3592d985",
   "metadata": {},
   "source": [
    "## 2. Handling Missing Values and Duplicate Value\n"
   ]
  },
  {
   "cell_type": "markdown",
   "id": "3d413f74",
   "metadata": {},
   "source": [
    "Train data"
   ]
  },
  {
   "cell_type": "code",
   "execution_count": 4,
   "id": "2288e399",
   "metadata": {},
   "outputs": [
    {
     "data": {
      "text/plain": [
       "tweet_id           0\n",
       "entity             0\n",
       "sentiment          0\n",
       "tweet_content    686\n",
       "dtype: int64"
      ]
     },
     "execution_count": 4,
     "metadata": {},
     "output_type": "execute_result"
    }
   ],
   "source": [
    "# checking missing value on train data \n",
    "train.isnull().sum()"
   ]
  },
  {
   "cell_type": "code",
   "execution_count": 5,
   "id": "14d0e3ad",
   "metadata": {},
   "outputs": [],
   "source": [
    "train = train.dropna()"
   ]
  },
  {
   "cell_type": "code",
   "execution_count": 6,
   "id": "e6dc2970",
   "metadata": {},
   "outputs": [
    {
     "data": {
      "text/plain": [
       "tweet_id         0\n",
       "entity           0\n",
       "sentiment        0\n",
       "tweet_content    0\n",
       "dtype: int64"
      ]
     },
     "execution_count": 6,
     "metadata": {},
     "output_type": "execute_result"
    }
   ],
   "source": [
    "# rechecking missing value \n",
    "train.isnull().sum()"
   ]
  },
  {
   "cell_type": "code",
   "execution_count": 7,
   "id": "50195da4",
   "metadata": {},
   "outputs": [
    {
     "data": {
      "text/plain": [
       "2340"
      ]
     },
     "execution_count": 7,
     "metadata": {},
     "output_type": "execute_result"
    }
   ],
   "source": [
    "# checking duplicate value on train data \n",
    "train.duplicated().sum()"
   ]
  },
  {
   "cell_type": "code",
   "execution_count": 8,
   "id": "b4ef2c35",
   "metadata": {},
   "outputs": [],
   "source": [
    "train = train.drop_duplicates()"
   ]
  },
  {
   "cell_type": "code",
   "execution_count": 9,
   "id": "a5eb313e",
   "metadata": {},
   "outputs": [
    {
     "data": {
      "text/plain": [
       "0"
      ]
     },
     "execution_count": 9,
     "metadata": {},
     "output_type": "execute_result"
    }
   ],
   "source": [
    "# rechecking duplicate value \n",
    "train.duplicated().sum()"
   ]
  },
  {
   "cell_type": "markdown",
   "id": "6032bd39",
   "metadata": {},
   "source": [
    "## 3. EDA"
   ]
  },
  {
   "cell_type": "code",
   "execution_count": 10,
   "id": "eea2f6db",
   "metadata": {},
   "outputs": [
    {
     "name": "stdout",
     "output_type": "stream",
     "text": [
      "<class 'pandas.core.frame.DataFrame'>\n",
      "Int64Index: 71656 entries, 0 to 74681\n",
      "Data columns (total 4 columns):\n",
      " #   Column         Non-Null Count  Dtype \n",
      "---  ------         --------------  ----- \n",
      " 0   tweet_id       71656 non-null  int64 \n",
      " 1   entity         71656 non-null  object\n",
      " 2   sentiment      71656 non-null  object\n",
      " 3   tweet_content  71656 non-null  object\n",
      "dtypes: int64(1), object(3)\n",
      "memory usage: 2.7+ MB\n"
     ]
    }
   ],
   "source": [
    "# checking basic train dataset info\n",
    "train.info()"
   ]
  },
  {
   "cell_type": "code",
   "execution_count": 11,
   "id": "dcf84548",
   "metadata": {},
   "outputs": [
    {
     "data": {
      "text/plain": [
       "Negative      21698\n",
       "Positive      19713\n",
       "Neutral       17708\n",
       "Irrelevant    12537\n",
       "Name: sentiment, dtype: int64"
      ]
     },
     "execution_count": 11,
     "metadata": {},
     "output_type": "execute_result"
    }
   ],
   "source": [
    "# train 'sentiment' value count \n",
    "train['sentiment'].value_counts()"
   ]
  },
  {
   "cell_type": "code",
   "execution_count": 12,
   "id": "967f60b8",
   "metadata": {},
   "outputs": [
    {
     "data": {
      "text/plain": [
       "<AxesSubplot:xlabel='sentiment', ylabel='count'>"
      ]
     },
     "execution_count": 12,
     "metadata": {},
     "output_type": "execute_result"
    },
    {
     "data": {
      "image/png": "[encoded data removed]",
      "text/plain": [
       "<Figure size 432x288 with 1 Axes>"
      ]
     },
     "metadata": {},
     "output_type": "display_data"
    }
   ],
   "source": [
    "sns.countplot(train['sentiment'])"
   ]
  },
  {
   "cell_type": "code",
   "execution_count": 13,
   "id": "e2203a96",
   "metadata": {},
   "outputs": [
    {
     "data": {
      "text/plain": [
       "<AxesSubplot:xlabel='entity'>"
      ]
     },
     "execution_count": 13,
     "metadata": {},
     "output_type": "execute_result"
    },
    {
     "data": {
      "image/png": "[encoded data removed]",
      "text/plain": [
       "<Figure size 1080x1080 with 1 Axes>"
      ]
     },
     "metadata": {},
     "output_type": "display_data"
    }
   ],
   "source": [
    "sentiment_entity = train.groupby(['entity','sentiment']).sentiment.count().unstack()\n",
    "sentiment_entity.plot(kind = 'bar', figsize = (15,15))"
   ]
  },
  {
   "cell_type": "markdown",
   "id": "5d7bf7d8",
   "metadata": {},
   "source": [
    "## 4. Data Preprocessing "
   ]
  },
  {
   "cell_type": "code",
   "execution_count": 14,
   "id": "9ac6b3ac",
   "metadata": {},
   "outputs": [],
   "source": [
    "# apllying label encoding for sentiment \n",
    "from sklearn.preprocessing import LabelEncoder\n",
    "le = LabelEncoder()"
   ]
  },
  {
   "cell_type": "code",
   "execution_count": 15,
   "id": "bf131c86",
   "metadata": {},
   "outputs": [
    {
     "data": {
      "text/plain": [
       "sentiment_num  sentiment \n",
       "1              Negative      21698\n",
       "3              Positive      19713\n",
       "2              Neutral       17708\n",
       "0              Irrelevant    12537\n",
       "dtype: int64"
      ]
     },
     "execution_count": 15,
     "metadata": {},
     "output_type": "execute_result"
    }
   ],
   "source": [
    "# train data \n",
    "train['sentiment_num'] = le.fit_transform(train['sentiment'])\n",
    "train[['sentiment_num','sentiment']].value_counts()"
   ]
  },
  {
   "cell_type": "markdown",
   "id": "d7100fd2",
   "metadata": {},
   "source": [
    "Notes : \n",
    "- 0 ==> Irrelevant\n",
    "- 1 ==> Negative \n",
    "- 2 ==> Neutral\n",
    "- 3 ==> Positive"
   ]
  },
  {
   "cell_type": "markdown",
   "id": "36ea1c15",
   "metadata": {},
   "source": [
    "## 5. String Data preprocessing Using NLTK "
   ]
  },
  {
   "cell_type": "code",
   "execution_count": 16,
   "id": "afc1c397",
   "metadata": {},
   "outputs": [
    {
     "name": "stderr",
     "output_type": "stream",
     "text": [
      "[nltk_data] Downloading package stopwords to\n",
      "[nltk_data]     C:\\Users\\ASUS\\AppData\\Roaming\\nltk_data...\n",
      "[nltk_data]   Package stopwords is already up-to-date!\n"
     ]
    }
   ],
   "source": [
    "# import library \n",
    "import nltk \n",
    "nltk.download('stopwords')\n",
    "from nltk.corpus import stopwords\n",
    "english_stop_words = set(stopwords.words('english'))\n",
    "from nltk.tokenize import RegexpTokenizer\n",
    "rg = RegexpTokenizer(r'\\w+')\n",
    "from nltk.stem.porter import PorterStemmer\n",
    "ps = PorterStemmer()\n",
    "from nltk.stem import WordNetLemmatizer"
   ]
  },
  {
   "cell_type": "code",
   "execution_count": 17,
   "id": "4aac47bb",
   "metadata": {},
   "outputs": [],
   "source": [
    "# define function for NLTK string processing \n",
    "def cleaned_data(text):\n",
    "    text = text.lower()\n",
    "    #tokenize \n",
    "    tokens = rg.tokenize(text)\n",
    "    new_tokens = [token for token in tokens if token not in english_stop_words]\n",
    "    # stemming \n",
    "    stemmed_tokens = [ps.stem(tokens) for tokens in new_tokens]\n",
    "    clean_text = \" \".join(stemmed_tokens)\n",
    "    return clean_text"
   ]
  },
  {
   "cell_type": "code",
   "execution_count": 18,
   "id": "34f248d3",
   "metadata": {},
   "outputs": [],
   "source": [
    "# define x_train\n",
    "x_train = train['tweet_content'].tolist()"
   ]
  },
  {
   "cell_type": "code",
   "execution_count": 19,
   "id": "ddb5a12f",
   "metadata": {},
   "outputs": [],
   "source": [
    "# cleaning data using cleaned_data function \n",
    "cleaned_train = [cleaned_data(i) for i in x_train]"
   ]
  },
  {
   "cell_type": "markdown",
   "id": "63f22678",
   "metadata": {},
   "source": [
    "## 6. Vectorization"
   ]
  },
  {
   "cell_type": "code",
   "execution_count": 20,
   "id": "6b09368c",
   "metadata": {},
   "outputs": [],
   "source": [
    "# import libraries \n",
    "from sklearn.feature_extraction.text import CountVectorizer"
   ]
  },
  {
   "cell_type": "code",
   "execution_count": 21,
   "id": "9911d5ef",
   "metadata": {},
   "outputs": [],
   "source": [
    "vectorize = CountVectorizer()"
   ]
  },
  {
   "cell_type": "markdown",
   "id": "ddecf4da",
   "metadata": {},
   "source": [
    "## 7. Model Training "
   ]
  },
  {
   "cell_type": "code",
   "execution_count": 22,
   "id": "183cd9ff",
   "metadata": {},
   "outputs": [],
   "source": [
    "# import libraries \n",
    "from sklearn.naive_bayes import MultinomialNB\n",
    "from sklearn.pipeline import Pipeline\n",
    "from sklearn.metrics import classification_report"
   ]
  },
  {
   "cell_type": "code",
   "execution_count": 23,
   "id": "c0ceee80",
   "metadata": {},
   "outputs": [],
   "source": [
    "# making function for testing different types of string \n",
    "def sentiment_predictor(tweets):\n",
    "    # deifning test data \n",
    "    x_test = tweets\n",
    "    # cleaning test data \n",
    "    test_clean = [cleaned_data(i) for i in x_test]\n",
    "    # defining model \n",
    "    sentiment_model = Pipeline(steps=[('count_vectorizer',vectorize),\n",
    "                                 ('naive_bayes', MultinomialNB())])\n",
    "    # model training \n",
    "    y_train = train['sentiment_num']\n",
    "    sentiment_model.fit(cleaned_train, y_train)\n",
    "    # predicting model using sentiment_model \n",
    "    y_pred = sentiment_model.predict(test_clean)\n",
    "    # creating table \n",
    "    y_pred_table = pd.DataFrame(list(zip(x_test, y_pred)),\n",
    "                   columns =['tweet', 'y_pred'])\n",
    "    def pred_converter(y_pred):\n",
    "        if y_pred == 0:\n",
    "                return 'Irrelevant'\n",
    "        elif y_pred == 1:\n",
    "                return 'Negative'\n",
    "        elif y_pred == 2:\n",
    "                return 'Neutral'\n",
    "        else:\n",
    "                return 'Possitive'\n",
    "    y_pred_table['sentiment'] = [pred_converter(i) for i in y_pred]\n",
    "    return y_pred_table[['tweet','sentiment']]"
   ]
  },
  {
   "cell_type": "code",
   "execution_count": 24,
   "id": "68580e33",
   "metadata": {},
   "outputs": [
    {
     "data": {
      "text/html": [
       "<div>\n",
       "<style scoped>\n",
       "    .dataframe tbody tr th:only-of-type {\n",
       "        vertical-align: middle;\n",
       "    }\n",
       "\n",
       "    .dataframe tbody tr th {\n",
       "        vertical-align: top;\n",
       "    }\n",
       "\n",
       "    .dataframe thead th {\n",
       "        text-align: right;\n",
       "    }\n",
       "</style>\n",
       "<table border=\"1\" class=\"dataframe\">\n",
       "  <thead>\n",
       "    <tr style=\"text-align: right;\">\n",
       "      <th></th>\n",
       "      <th>tweet</th>\n",
       "      <th>sentiment</th>\n",
       "    </tr>\n",
       "  </thead>\n",
       "  <tbody>\n",
       "    <tr>\n",
       "      <th>0</th>\n",
       "      <td>Rip whole inventory on gamdom crash and stay s...</td>\n",
       "      <td>Neutral</td>\n",
       "    </tr>\n",
       "    <tr>\n",
       "      <th>1</th>\n",
       "      <td>Definitely getting this 🔥</td>\n",
       "      <td>Possitive</td>\n",
       "    </tr>\n",
       "    <tr>\n",
       "      <th>2</th>\n",
       "      <td>Nvidia GeForce Now: Google Stadia rival suffer...</td>\n",
       "      <td>Neutral</td>\n",
       "    </tr>\n",
       "    <tr>\n",
       "      <th>3</th>\n",
       "      <td>This is how much I enjoy #ghostreconbreakpoint...</td>\n",
       "      <td>Possitive</td>\n",
       "    </tr>\n",
       "    <tr>\n",
       "      <th>4</th>\n",
       "      <td>Sound ON! Enjoy the groove and this little mon...</td>\n",
       "      <td>Irrelevant</td>\n",
       "    </tr>\n",
       "    <tr>\n",
       "      <th>5</th>\n",
       "      <td>Even tae playing pubg I won’t ever installing ...</td>\n",
       "      <td>Negative</td>\n",
       "    </tr>\n",
       "    <tr>\n",
       "      <th>6</th>\n",
       "      <td>I tried to do some of purple invasion stuff to...</td>\n",
       "      <td>Neutral</td>\n",
       "    </tr>\n",
       "    <tr>\n",
       "      <th>7</th>\n",
       "      <td>Thanks @RockstarGames , you're rock stars!  #R...</td>\n",
       "      <td>Possitive</td>\n",
       "    </tr>\n",
       "    <tr>\n",
       "      <th>8</th>\n",
       "      <td>Man this some GTA shit lol.</td>\n",
       "      <td>Negative</td>\n",
       "    </tr>\n",
       "    <tr>\n",
       "      <th>9</th>\n",
       "      <td>Team 5 what a great media/announcement day. Yo...</td>\n",
       "      <td>Possitive</td>\n",
       "    </tr>\n",
       "  </tbody>\n",
       "</table>\n",
       "</div>"
      ],
      "text/plain": [
       "                                               tweet   sentiment\n",
       "0  Rip whole inventory on gamdom crash and stay s...     Neutral\n",
       "1                          Definitely getting this 🔥   Possitive\n",
       "2  Nvidia GeForce Now: Google Stadia rival suffer...     Neutral\n",
       "3  This is how much I enjoy #ghostreconbreakpoint...   Possitive\n",
       "4  Sound ON! Enjoy the groove and this little mon...  Irrelevant\n",
       "5  Even tae playing pubg I won’t ever installing ...    Negative\n",
       "6  I tried to do some of purple invasion stuff to...     Neutral\n",
       "7  Thanks @RockstarGames , you're rock stars!  #R...   Possitive\n",
       "8                        Man this some GTA shit lol.    Negative\n",
       "9  Team 5 what a great media/announcement day. Yo...   Possitive"
      ]
     },
     "execution_count": 24,
     "metadata": {},
     "output_type": "execute_result"
    }
   ],
   "source": [
    "sentiment_predictor(test)"
   ]
  },
  {
   "cell_type": "code",
   "execution_count": 25,
   "id": "dae88984",
   "metadata": {},
   "outputs": [
    {
     "data": {
      "text/html": [
       "<div>\n",
       "<style scoped>\n",
       "    .dataframe tbody tr th:only-of-type {\n",
       "        vertical-align: middle;\n",
       "    }\n",
       "\n",
       "    .dataframe tbody tr th {\n",
       "        vertical-align: top;\n",
       "    }\n",
       "\n",
       "    .dataframe thead th {\n",
       "        text-align: right;\n",
       "    }\n",
       "</style>\n",
       "<table border=\"1\" class=\"dataframe\">\n",
       "  <thead>\n",
       "    <tr style=\"text-align: right;\">\n",
       "      <th></th>\n",
       "      <th>tweet</th>\n",
       "      <th>sentiment</th>\n",
       "    </tr>\n",
       "  </thead>\n",
       "  <tbody>\n",
       "    <tr>\n",
       "      <th>0</th>\n",
       "      <td>This game is fucking horrible, I can't deal wi...</td>\n",
       "      <td>Negative</td>\n",
       "    </tr>\n",
       "  </tbody>\n",
       "</table>\n",
       "</div>"
      ],
      "text/plain": [
       "                                               tweet sentiment\n",
       "0  This game is fucking horrible, I can't deal wi...  Negative"
      ]
     },
     "execution_count": 25,
     "metadata": {},
     "output_type": "execute_result"
    }
   ],
   "source": [
    "# trying anpther data  \n",
    "test_1 = [\"This game is fucking horrible, I can't deal with it anymore\"]\n",
    "sentiment_predictor(test_1)"
   ]
  },
  {
   "cell_type": "code",
   "execution_count": 26,
   "id": "99af48bd",
   "metadata": {},
   "outputs": [
    {
     "data": {
      "text/html": [
       "<div>\n",
       "<style scoped>\n",
       "    .dataframe tbody tr th:only-of-type {\n",
       "        vertical-align: middle;\n",
       "    }\n",
       "\n",
       "    .dataframe tbody tr th {\n",
       "        vertical-align: top;\n",
       "    }\n",
       "\n",
       "    .dataframe thead th {\n",
       "        text-align: right;\n",
       "    }\n",
       "</style>\n",
       "<table border=\"1\" class=\"dataframe\">\n",
       "  <thead>\n",
       "    <tr style=\"text-align: right;\">\n",
       "      <th></th>\n",
       "      <th>tweet</th>\n",
       "      <th>sentiment</th>\n",
       "    </tr>\n",
       "  </thead>\n",
       "  <tbody>\n",
       "    <tr>\n",
       "      <th>0</th>\n",
       "      <td>The combination of the excellent campaign, tri...</td>\n",
       "      <td>Possitive</td>\n",
       "    </tr>\n",
       "  </tbody>\n",
       "</table>\n",
       "</div>"
      ],
      "text/plain": [
       "                                               tweet  sentiment\n",
       "0  The combination of the excellent campaign, tri...  Possitive"
      ]
     },
     "execution_count": 26,
     "metadata": {},
     "output_type": "execute_result"
    }
   ],
   "source": [
    "# trying another data\n",
    "test_2 = [\"The combination of the excellent campaign, tried and true multiplayer, and online co-op make this a game that shouldn't be missed by anyone.\"]\n",
    "sentiment_predictor(test_2)"
   ]
  },
  {
   "cell_type": "code",
   "execution_count": null,
   "id": "df56bf33",
   "metadata": {},
   "outputs": [],
   "source": []
  }
 ],
 "metadata": {
  "kernelspec": {
   "display_name": "Python 3 (ipykernel)",
   "language": "python",
   "name": "python3"
  },
  "language_info": {
   "codemirror_mode": {
    "name": "ipython",
    "version": 3
   },
   "file_extension": ".py",
   "mimetype": "text/x-python",
   "name": "python",
   "nbconvert_exporter": "python",
   "pygments_lexer": "ipython3",
   "version": "3.9.7"
  }
 },
 "nbformat": 4,
 "nbformat_minor": 5
}
